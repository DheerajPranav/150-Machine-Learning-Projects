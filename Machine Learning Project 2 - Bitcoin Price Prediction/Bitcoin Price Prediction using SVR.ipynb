{
 "cells": [
  {
   "cell_type": "code",
   "execution_count": 1,
   "metadata": {},
   "outputs": [],
   "source": [
    "import numpy as np\n",
    "import pandas as pd\n",
    "from sklearn.model_selection import train_test_split\n",
    "from sklearn.svm import SVR"
   ]
  },
  {
   "cell_type": "code",
   "execution_count": 2,
   "metadata": {},
   "outputs": [],
   "source": [
    "## read the dataset\n",
    "df = pd.read_csv('bitcoin.csv')"
   ]
  },
  {
   "cell_type": "code",
   "execution_count": 3,
   "metadata": {},
   "outputs": [
    {
     "data": {
      "text/html": [
       "<div>\n",
       "<style scoped>\n",
       "    .dataframe tbody tr th:only-of-type {\n",
       "        vertical-align: middle;\n",
       "    }\n",
       "\n",
       "    .dataframe tbody tr th {\n",
       "        vertical-align: top;\n",
       "    }\n",
       "\n",
       "    .dataframe thead th {\n",
       "        text-align: right;\n",
       "    }\n",
       "</style>\n",
       "<table border=\"1\" class=\"dataframe\">\n",
       "  <thead>\n",
       "    <tr style=\"text-align: right;\">\n",
       "      <th></th>\n",
       "      <th>Date</th>\n",
       "      <th>Price</th>\n",
       "    </tr>\n",
       "  </thead>\n",
       "  <tbody>\n",
       "    <tr>\n",
       "      <th>0</th>\n",
       "      <td>5/23/2019</td>\n",
       "      <td>7881.846680</td>\n",
       "    </tr>\n",
       "    <tr>\n",
       "      <th>1</th>\n",
       "      <td>5/24/2019</td>\n",
       "      <td>7987.371582</td>\n",
       "    </tr>\n",
       "    <tr>\n",
       "      <th>2</th>\n",
       "      <td>5/25/2019</td>\n",
       "      <td>8052.543945</td>\n",
       "    </tr>\n",
       "    <tr>\n",
       "      <th>3</th>\n",
       "      <td>5/26/2019</td>\n",
       "      <td>8673.215820</td>\n",
       "    </tr>\n",
       "    <tr>\n",
       "      <th>4</th>\n",
       "      <td>5/27/2019</td>\n",
       "      <td>8805.778320</td>\n",
       "    </tr>\n",
       "  </tbody>\n",
       "</table>\n",
       "</div>"
      ],
      "text/plain": [
       "        Date        Price\n",
       "0  5/23/2019  7881.846680\n",
       "1  5/24/2019  7987.371582\n",
       "2  5/25/2019  8052.543945\n",
       "3  5/26/2019  8673.215820\n",
       "4  5/27/2019  8805.778320"
      ]
     },
     "execution_count": 3,
     "metadata": {},
     "output_type": "execute_result"
    }
   ],
   "source": [
    "df.head()"
   ]
  },
  {
   "cell_type": "code",
   "execution_count": 5,
   "metadata": {},
   "outputs": [
    {
     "name": "stderr",
     "output_type": "stream",
     "text": [
      "<ipython-input-5-f5b5f5282231>:2: FutureWarning: In a future version of pandas all arguments of DataFrame.drop except for the argument 'labels' will be keyword-only\n",
      "  df.drop(['Date'],1,inplace=True)\n"
     ]
    }
   ],
   "source": [
    "## remove date column\n",
    "df.drop(['Date'],1,inplace=True)"
   ]
  },
  {
   "cell_type": "code",
   "execution_count": 6,
   "metadata": {},
   "outputs": [
    {
     "data": {
      "text/html": [
       "<div>\n",
       "<style scoped>\n",
       "    .dataframe tbody tr th:only-of-type {\n",
       "        vertical-align: middle;\n",
       "    }\n",
       "\n",
       "    .dataframe tbody tr th {\n",
       "        vertical-align: top;\n",
       "    }\n",
       "\n",
       "    .dataframe thead th {\n",
       "        text-align: right;\n",
       "    }\n",
       "</style>\n",
       "<table border=\"1\" class=\"dataframe\">\n",
       "  <thead>\n",
       "    <tr style=\"text-align: right;\">\n",
       "      <th></th>\n",
       "      <th>Price</th>\n",
       "    </tr>\n",
       "  </thead>\n",
       "  <tbody>\n",
       "    <tr>\n",
       "      <th>0</th>\n",
       "      <td>7881.846680</td>\n",
       "    </tr>\n",
       "    <tr>\n",
       "      <th>1</th>\n",
       "      <td>7987.371582</td>\n",
       "    </tr>\n",
       "    <tr>\n",
       "      <th>2</th>\n",
       "      <td>8052.543945</td>\n",
       "    </tr>\n",
       "    <tr>\n",
       "      <th>3</th>\n",
       "      <td>8673.215820</td>\n",
       "    </tr>\n",
       "    <tr>\n",
       "      <th>4</th>\n",
       "      <td>8805.778320</td>\n",
       "    </tr>\n",
       "  </tbody>\n",
       "</table>\n",
       "</div>"
      ],
      "text/plain": [
       "         Price\n",
       "0  7881.846680\n",
       "1  7987.371582\n",
       "2  8052.543945\n",
       "3  8673.215820\n",
       "4  8805.778320"
      ]
     },
     "execution_count": 6,
     "metadata": {},
     "output_type": "execute_result"
    }
   ],
   "source": [
    "df.head()"
   ]
  },
  {
   "cell_type": "code",
   "execution_count": 7,
   "metadata": {},
   "outputs": [
    {
     "data": {
      "text/html": [
       "<div>\n",
       "<style scoped>\n",
       "    .dataframe tbody tr th:only-of-type {\n",
       "        vertical-align: middle;\n",
       "    }\n",
       "\n",
       "    .dataframe tbody tr th {\n",
       "        vertical-align: top;\n",
       "    }\n",
       "\n",
       "    .dataframe thead th {\n",
       "        text-align: right;\n",
       "    }\n",
       "</style>\n",
       "<table border=\"1\" class=\"dataframe\">\n",
       "  <thead>\n",
       "    <tr style=\"text-align: right;\">\n",
       "      <th></th>\n",
       "      <th>Price</th>\n",
       "      <th>Prediction</th>\n",
       "    </tr>\n",
       "  </thead>\n",
       "  <tbody>\n",
       "    <tr>\n",
       "      <th>0</th>\n",
       "      <td>7881.846680</td>\n",
       "      <td>10701.69141</td>\n",
       "    </tr>\n",
       "    <tr>\n",
       "      <th>1</th>\n",
       "      <td>7987.371582</td>\n",
       "      <td>10855.37109</td>\n",
       "    </tr>\n",
       "    <tr>\n",
       "      <th>2</th>\n",
       "      <td>8052.543945</td>\n",
       "      <td>11011.10254</td>\n",
       "    </tr>\n",
       "    <tr>\n",
       "      <th>3</th>\n",
       "      <td>8673.215820</td>\n",
       "      <td>11790.91699</td>\n",
       "    </tr>\n",
       "    <tr>\n",
       "      <th>4</th>\n",
       "      <td>8805.778320</td>\n",
       "      <td>13016.23145</td>\n",
       "    </tr>\n",
       "  </tbody>\n",
       "</table>\n",
       "</div>"
      ],
      "text/plain": [
       "         Price   Prediction\n",
       "0  7881.846680  10701.69141\n",
       "1  7987.371582  10855.37109\n",
       "2  8052.543945  11011.10254\n",
       "3  8673.215820  11790.91699\n",
       "4  8805.778320  13016.23145"
      ]
     },
     "execution_count": 7,
     "metadata": {},
     "output_type": "execute_result"
    }
   ],
   "source": [
    "predictionDays = 30\n",
    "# Create another column shifted 'n'  units up\n",
    "df['Prediction'] = df[['Price']].shift(-predictionDays)\n",
    "# show the first 5 rows\n",
    "df.head()"
   ]
  },
  {
   "cell_type": "code",
   "execution_count": 8,
   "metadata": {},
   "outputs": [
    {
     "data": {
      "text/plain": [
       "367"
      ]
     },
     "execution_count": 8,
     "metadata": {},
     "output_type": "execute_result"
    }
   ],
   "source": [
    "len(df)"
   ]
  },
  {
   "cell_type": "code",
   "execution_count": 13,
   "metadata": {},
   "outputs": [
    {
     "name": "stderr",
     "output_type": "stream",
     "text": [
      "<ipython-input-13-a0686374d7e6>:3: FutureWarning: In a future version of pandas all arguments of DataFrame.drop except for the argument 'labels' will be keyword-only\n",
      "  x = np.array(df.drop(['Prediction'],1))\n"
     ]
    }
   ],
   "source": [
    "# Create the independent dada set\n",
    "# Here we will convert the data frame into a numpy array and drp the prediction column\n",
    "x = np.array(df.drop(['Prediction'],1))\n",
    "# Remove the last 'n' rows where 'n' is the predictionDays\n",
    "x = x[:len(df)-predictionDays]\n"
   ]
  },
  {
   "cell_type": "code",
   "execution_count": 15,
   "metadata": {},
   "outputs": [],
   "source": [
    "# Create the dependent data set\n",
    "# convert the data frame into a numpy array\n",
    "y = np.array(df['Prediction'])\n",
    "# Get all the values except last 'n' rows\n",
    "y = y[:-predictionDays]\n"
   ]
  },
  {
   "cell_type": "code",
   "execution_count": 18,
   "metadata": {},
   "outputs": [
    {
     "name": "stderr",
     "output_type": "stream",
     "text": [
      "<ipython-input-18-38a8f3025d7c>:5: FutureWarning: In a future version of pandas all arguments of DataFrame.drop except for the argument 'labels' will be keyword-only\n",
      "  predictionDays_array = np.array(df.drop(['Prediction'],1))[-predictionDays:]\n"
     ]
    },
    {
     "data": {
      "text/plain": [
       "30"
      ]
     },
     "execution_count": 18,
     "metadata": {},
     "output_type": "execute_result"
    }
   ],
   "source": [
    "## train test split\n",
    "xtrain, xtest, ytrain, ytest = train_test_split(x,y, test_size = 0.2)\n",
    "\n",
    "# set the predictionDays array equal to last 30 rows from the original data set\n",
    "predictionDays_array = np.array(df.drop(['Prediction'],1))[-predictionDays:]\n",
    "len(predictionDays_array)"
   ]
  },
  {
   "cell_type": "code",
   "execution_count": 19,
   "metadata": {},
   "outputs": [
    {
     "data": {
      "text/plain": [
       "SVR(C=1000.0, gamma=1e-05)"
      ]
     },
     "execution_count": 19,
     "metadata": {},
     "output_type": "execute_result"
    }
   ],
   "source": [
    "## SVR\n",
    "svr_rbf = SVR(kernel='rbf', C=1e3, gamma=0.00001)\n",
    "svr_rbf.fit(xtrain, ytrain)"
   ]
  },
  {
   "cell_type": "code",
   "execution_count": 20,
   "metadata": {},
   "outputs": [
    {
     "name": "stdout",
     "output_type": "stream",
     "text": [
      "SVR_RBF accuracy : -0.013788035504928242\n"
     ]
    }
   ],
   "source": [
    "## testing\n",
    "svr_rbf_confidence = svr_rbf.score(xtest,ytest)\n",
    "print('SVR_RBF accuracy :',svr_rbf_confidence)"
   ]
  },
  {
   "cell_type": "code",
   "execution_count": 32,
   "metadata": {
    "collapsed": true
   },
   "outputs": [
    {
     "ename": "ImportError",
     "evalue": "cannot import name 'RSME' from 'sklearn.metrics' (/Users/dheerajpranav/opt/anaconda3/lib/python3.8/site-packages/sklearn/metrics/__init__.py)",
     "output_type": "error",
     "traceback": [
      "\u001b[0;31m---------------------------------------------------------------------------\u001b[0m",
      "\u001b[0;31mImportError\u001b[0m                               Traceback (most recent call last)",
      "\u001b[0;32m<ipython-input-32-9ede2fd001d6>\u001b[0m in \u001b[0;36m<module>\u001b[0;34m\u001b[0m\n\u001b[0;32m----> 1\u001b[0;31m \u001b[0;32mfrom\u001b[0m \u001b[0msklearn\u001b[0m\u001b[0;34m.\u001b[0m\u001b[0mmetrics\u001b[0m \u001b[0;32mimport\u001b[0m \u001b[0mRSME\u001b[0m\u001b[0;34m\u001b[0m\u001b[0;34m\u001b[0m\u001b[0m\n\u001b[0m\u001b[1;32m      2\u001b[0m \u001b[0;34m\u001b[0m\u001b[0m\n\u001b[1;32m      3\u001b[0m \u001b[0mRSME\u001b[0m\u001b[0;34m(\u001b[0m\u001b[0mytest\u001b[0m\u001b[0;34m,\u001b[0m \u001b[0msvm_prediction\u001b[0m\u001b[0;34m)\u001b[0m\u001b[0;34m\u001b[0m\u001b[0;34m\u001b[0m\u001b[0m\n",
      "\u001b[0;31mImportError\u001b[0m: cannot import name 'RSME' from 'sklearn.metrics' (/Users/dheerajpranav/opt/anaconda3/lib/python3.8/site-packages/sklearn/metrics/__init__.py)"
     ]
    }
   ],
   "source": [
    "from sklearn.metrics import mean_squared_error\n",
    "\n",
    "mean_squared_error(ytest, svm_prediction)"
   ]
  },
  {
   "cell_type": "code",
   "execution_count": 34,
   "metadata": {},
   "outputs": [
    {
     "data": {
      "text/plain": [
       "2450080.3527475726"
      ]
     },
     "execution_count": 34,
     "metadata": {},
     "output_type": "execute_result"
    }
   ],
   "source": [
    "MSE = np.square(np.subtract(ytest,svm_prediction)).mean()\n",
    "MSE"
   ]
  },
  {
   "cell_type": "code",
   "execution_count": 25,
   "metadata": {
    "collapsed": true
   },
   "outputs": [
    {
     "name": "stdout",
     "output_type": "stream",
     "text": [
      "[ 8409.3386616   8546.46034961  8110.62479589  7151.96705073\n",
      "  8528.90522784  8110.77769913  8098.59924532  8285.75223103\n",
      "  8269.91305763  9855.5195735   8871.24934218  9634.58920582\n",
      "  9163.93523965  9186.26005674  8898.54495961  9005.28955145\n",
      " 10840.40807228  7759.06063342  8350.05888719  8708.7656771\n",
      "  8108.72561547  8551.8458577   9030.37911096  7492.9176837\n",
      "  9002.33687153  9352.10151164  8336.32265829 10513.32649734\n",
      "  8951.91493134  9428.27955965  8277.59420511  7876.63741852\n",
      "  7949.14251622  8688.84624129  8150.33575802  8753.22720147\n",
      "  7580.21493564  9335.801022    8233.42115689  8718.80689023\n",
      "  8446.79462118  9360.09588758  8988.4990568   9041.0317029\n",
      "  8024.58687545  9265.59052134  8256.59056652  8251.1438963\n",
      "  9034.11446683  8469.77634863 10409.65133659  7166.27415872\n",
      "  8811.91374497  8343.14642034  8752.02513839  8792.47342626\n",
      "  9171.1390257   7818.94147583  9659.19344428  8796.86874078\n",
      "  8905.01797896 10468.51861927  8252.27191291  9198.26200219\n",
      "  8910.48919548  8110.05049898 10014.35878239  9302.19761632]\n",
      "\n",
      "[ 7200.174316  7117.20752  10185.5       6642.109863  8336.555664\n",
      " 10767.13965  10311.5459   12573.8125    6191.192871 10231.74414\n",
      "  9508.993164  6865.493164  9199.584961  9055.526367  8864.766602\n",
      "  9522.981445 10334.97461   7410.656738  8393.041992  7344.884277\n",
      "  8245.915039  9889.424805  9924.515625  7795.601074  9670.739258\n",
      "  9412.612305  7269.68457   9519.145508  7275.155762  8550.760742\n",
      "  9598.173828  9358.589844  7448.307617  9726.575195 10138.51758\n",
      "  7679.867188  8745.894531  9729.801758  8680.875977  9870.303711\n",
      " 11215.4375   11815.98633   8601.795898  8804.477539  8869.669922\n",
      " 11392.37891   8118.967773 10895.83008   9757.970703  7217.427246\n",
      " 10051.7041    6842.427734  7238.966797 13016.23145   8367.847656\n",
      "  6429.841797  8757.788086  7556.237793 12285.95801   9341.705078\n",
      "  9951.518555 10115.97559  10895.08984   7276.802734 11966.40723\n",
      "  9754.422852 10343.10645  10208.23633 ]\n"
     ]
    }
   ],
   "source": [
    "# print the predicted values\n",
    "svm_prediction = svr_rbf.predict(xtest)\n",
    "print(svm_prediction)\n",
    "print()\n",
    "print(ytest)"
   ]
  },
  {
   "cell_type": "code",
   "execution_count": 35,
   "metadata": {
    "collapsed": true
   },
   "outputs": [
    {
     "name": "stdout",
     "output_type": "stream",
     "text": [
      "[7579.81375261 7614.78006817 8220.63459665 9142.7013043  9218.98562447\n",
      " 8356.10621414 8688.65487923 8177.5530935  7856.06318021 8085.68929566\n",
      " 8043.99466324 7825.99867842 7820.96186385 8213.72059064 8131.97312895\n",
      " 8105.07218091 8473.18714444 8788.70415827 8346.71076819 7823.03220474\n",
      " 8091.7236757  7924.80440668 8002.9225829  8091.91096564 8090.97374268\n",
      " 8091.2075543  8110.45036516 7710.47942262 7707.73878165 7705.77157335]\n",
      "\n",
      "337    7550.900879\n",
      "338    7569.936035\n",
      "339    7679.867188\n",
      "340    7795.601074\n",
      "341    7807.058594\n",
      "342    8801.038086\n",
      "343    8658.553711\n",
      "344    8864.766602\n",
      "345    8988.596680\n",
      "346    8897.468750\n",
      "347    8912.654297\n",
      "348    9003.070313\n",
      "349    9268.761719\n",
      "350    9951.518555\n",
      "351    9842.666016\n",
      "352    9593.896484\n",
      "353    8756.430664\n",
      "354    8601.795898\n",
      "355    8804.477539\n",
      "356    9269.987305\n",
      "357    9733.721680\n",
      "358    9328.197266\n",
      "359    9377.013672\n",
      "360    9670.739258\n",
      "361    9726.575195\n",
      "362    9729.038086\n",
      "363    9522.981445\n",
      "364    9081.761719\n",
      "365    9182.577148\n",
      "366    9180.045898\n",
      "Name: Price, dtype: float64\n"
     ]
    }
   ],
   "source": [
    "# Print the model predictions for the next 30 days\n",
    "svm_prediction = svr_rbf.predict(predictionDays_array)\n",
    "print(svm_prediction)\n",
    "print()\n",
    "#Print the actual price for bitcoin for last 30 days\n",
    "print(df.tail(predictionDays)['Price'])"
   ]
  },
  {
   "cell_type": "code",
   "execution_count": null,
   "metadata": {},
   "outputs": [],
   "source": [
    "\"Accuracy on validation-set\", svr_rbf.score(xtest,df.tail(predictionDays)['Price'])\n",
    "\n"
   ]
  },
  {
   "cell_type": "code",
   "execution_count": 36,
   "metadata": {},
   "outputs": [
    {
     "data": {
      "text/plain": [
       "1472076.792544991"
      ]
     },
     "execution_count": 36,
     "metadata": {},
     "output_type": "execute_result"
    }
   ],
   "source": [
    "MSE = np.square(np.subtract(df.tail(predictionDays)['Price'],svm_prediction)).mean()\n",
    "MSE"
   ]
  },
  {
   "cell_type": "code",
   "execution_count": null,
   "metadata": {},
   "outputs": [],
   "source": []
  }
 ],
 "metadata": {
  "kernelspec": {
   "display_name": "Python 3",
   "language": "python",
   "name": "python3"
  },
  "language_info": {
   "codemirror_mode": {
    "name": "ipython",
    "version": 3
   },
   "file_extension": ".py",
   "mimetype": "text/x-python",
   "name": "python",
   "nbconvert_exporter": "python",
   "pygments_lexer": "ipython3",
   "version": "3.8.8"
  }
 },
 "nbformat": 4,
 "nbformat_minor": 4
}
